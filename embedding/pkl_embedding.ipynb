{
 "cells": [
  {
   "cell_type": "code",
   "execution_count": null,
   "metadata": {},
   "outputs": [],
   "source": [
    "!wget https://github.com/facebookresearch/fastText/archive/v0.9.2.zip"
   ]
  },
  {
   "cell_type": "code",
   "execution_count": 1,
   "metadata": {},
   "outputs": [],
   "source": [
    "import zipfile\n",
    "\n",
    "target = 'v0.9.2.zip'\n",
    "\n",
    "handle = zipfile.ZipFile(target)\n",
    "handle.extractall()\n",
    "handle.close()"
   ]
  },
  {
   "cell_type": "code",
   "execution_count": 2,
   "metadata": {},
   "outputs": [
    {
     "name": "stdout",
     "output_type": "stream",
     "text": [
      "[WinError 2] The system cannot find the file specified: '../fastText-0.9.2'\n",
      "C:\\Users\\Pishtaz\\Desktop\\DrAsghari\\CBSA\\embedding\n"
     ]
    }
   ],
   "source": [
    "cd ../fastText-0.9.2"
   ]
  },
  {
   "cell_type": "code",
   "execution_count": null,
   "metadata": {},
   "outputs": [],
   "source": [
    "import fastText\n",
    "import pickle\n",
    "\n",
    "def pkl_embeddings(X, **params):\n",
    "    emb_dimension = params.get('emb_dimension')\n",
    "    chin_emb_dir = params.get('chin_emb_dir')\n",
    "\n",
    "    word_embedding = {}\n",
    "    unique_words = []\n",
    "\n",
    "    ft = fasttext.load_model(chin_emb_dir)\n",
    "\n",
    "    for sentence in X:\n",
    "        for token in sentence:\n",
    "            if token not in unique_words:\n",
    "                unique_words.append(token)\n",
    "\n",
    "            if emb_dimension == 300:\n",
    "                for word in unique_words:\n",
    "                    word_embedding[emb_dimension][word] = ft.get_word_vector(word)\n",
    "\n",
    "                with open(f'./embedding/my_embeddings/fasttext_embedding_{emb_dimension}_pretrained.pickle','wb') as f:\n",
    "                    pickle.dump(word_embedding, f) \n",
    "\n",
    "            elif emb_dimension == 200:\n",
    "                fasttext.util.reduce_model(ft, 200)\n",
    "\n",
    "                for word in unique_words:\n",
    "                    word_embedding[emb_dimension][word] = ft.get_word_vector(word)\n",
    "\n",
    "                with open(f'./embedding/my_embeddings/fasttext_embedding_{emb_dimension}_pretrained.pickle','wb') as f:\n",
    "                    pickle.dump(word_embedding, f)\n",
    "\n",
    "            elif emb_dimension == 100:\n",
    "                fasttext.util.reduce_model(ft, 100)\n",
    "\n",
    "                for word in unique_words:\n",
    "                    word_embedding[emb_dimension][word] = ft.get_word_vector(word)\n",
    "\n",
    "                with open(f'./embedding/my_embeddings/fasttext_embedding_{emb_dimension}_pretrained.pickle','wb') as f:\n",
    "                    pickle.dump(word_embedding, f)\n"
   ]
  },
  {
   "cell_type": "code",
   "execution_count": null,
   "metadata": {},
   "outputs": [],
   "source": [
    "# import fasttext.util\n",
    "\n",
    "# def pkl_embeddings(word_embedding, unique_words, dimension):\n",
    "#     ft = fasttext.load_model('E:/fastText/cc.fa.300.bin')\n",
    "    \n",
    "#     if dimension == 300:\n",
    "#         for word in unique_words:\n",
    "#           word_embedding[dimension][word] = ft.get_word_vector(word)\n",
    "        \n",
    "#             with open(f'C:/Users/Pishtaz/Desktop/Thesis_Code/fasttext_embedding_{dimension}_pretrained.pickle','wb')\\\n",
    "#             as f:\n",
    "#                 pickle.dump(word_embedding, f) \n",
    "        \n",
    "#     elif dimension == 200:\n",
    "#         fasttext.util.reduce_model(ft, 200)\n",
    "        \n",
    "#         for word in unique_words:\n",
    "#             word_embedding[dimension][word] = ft.get_word_vector(word)\n",
    "            \n",
    "#         with open(f'C:/Users/Pishtaz/Desktop/Thesis_Code/fasttext_embedding_{dimension}_pretrained.pickle','wb')\\\n",
    "#         as f:\n",
    "#             pickle.dump(word_embedding, f)\n",
    "        \n",
    "#     elif dimension == 100:\n",
    "#         fasttext.util.reduce_model(ft, 100)\n",
    "            \n",
    "#         for word in unique_words:\n",
    "#             word_embedding[dimension][word] = ft.get_word_vector(word)\n",
    "\n",
    "#         with open(f'C:/Users/Pishtaz/Desktop/Thesis_Code/fasttext_embedding_{dimension}_pretrained.pickle','wb')\\\n",
    "#         as f:\n",
    "#             pickle.dump(word_embedding, f)"
   ]
  },
  {
   "cell_type": "code",
   "execution_count": null,
   "metadata": {},
   "outputs": [],
   "source": []
  },
  {
   "cell_type": "code",
   "execution_count": null,
   "metadata": {},
   "outputs": [],
   "source": []
  },
  {
   "cell_type": "code",
   "execution_count": null,
   "metadata": {},
   "outputs": [],
   "source": []
  },
  {
   "cell_type": "code",
   "execution_count": null,
   "metadata": {},
   "outputs": [],
   "source": []
  },
  {
   "cell_type": "code",
   "execution_count": null,
   "metadata": {},
   "outputs": [],
   "source": []
  },
  {
   "cell_type": "code",
   "execution_count": null,
   "metadata": {},
   "outputs": [],
   "source": []
  },
  {
   "cell_type": "code",
   "execution_count": null,
   "metadata": {},
   "outputs": [],
   "source": []
  }
 ],
 "metadata": {
  "kernelspec": {
   "display_name": "Python 3",
   "language": "python",
   "name": "python3"
  },
  "language_info": {
   "codemirror_mode": {
    "name": "ipython",
    "version": 3
   },
   "file_extension": ".py",
   "mimetype": "text/x-python",
   "name": "python",
   "nbconvert_exporter": "python",
   "pygments_lexer": "ipython3",
   "version": "3.7.4"
  }
 },
 "nbformat": 4,
 "nbformat_minor": 2
}
